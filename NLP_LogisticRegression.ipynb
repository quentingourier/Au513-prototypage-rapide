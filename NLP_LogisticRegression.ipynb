{
  "nbformat": 4,
  "nbformat_minor": 0,
  "metadata": {
    "colab": {
      "provenance": []
    },
    "kernelspec": {
      "name": "python3",
      "display_name": "Python 3"
    },
    "language_info": {
      "name": "python"
    }
  },
  "cells": [
    {
      "cell_type": "code",
      "execution_count": 31,
      "metadata": {
        "colab": {
          "base_uri": "https://localhost:8080/"
        },
        "id": "2fQv3eNCI-b6",
        "outputId": "5c5de72d-adac-43f5-bdd0-90e8483cef1b"
      },
      "outputs": [
        {
          "output_type": "stream",
          "name": "stdout",
          "text": [
            "Drive already mounted at /content/gdrive/; to attempt to forcibly remount, call drive.mount(\"/content/gdrive/\", force_remount=True).\n"
          ]
        }
      ],
      "source": [
        "from google.colab import drive\n",
        "from sklearn.model_selection import train_test_split\n",
        "from sklearn.feature_extraction.text import TfidfVectorizer\n",
        "from sklearn.linear_model import LogisticRegression\n",
        "from tensorflow import keras\n",
        "\n",
        "import pandas as pd\n",
        "import sklearn as sk\n",
        "import numpy as np\n",
        "import random, pickle, sys\n",
        "\n",
        "drive.mount('/content/gdrive/')\n",
        "sys.path.append('/content/gdrive/MyDrive/Colab Notebooks/NLP/')\n",
        "pathfile = \"/content/gdrive/MyDrive/Colab Notebooks/NLP/title_and_channelname.csv\" "
      ]
    },
    {
      "cell_type": "code",
      "source": [
        "df = pd.read_csv(pathfile)\n",
        "df = df.sample(frac=1);\n",
        "df.head(5)"
      ],
      "metadata": {
        "colab": {
          "base_uri": "https://localhost:8080/",
          "height": 206
        },
        "id": "1tCgZWC6JGFN",
        "outputId": "42b83e13-c350-429a-df00-e463eae4b369"
      },
      "execution_count": 77,
      "outputs": [
        {
          "output_type": "execute_result",
          "data": {
            "text/plain": [
              "                                                    title   channelTitle  \\\n",
              "142802                                    MERCI Z EVENT !  AmnestyFrance   \n",
              "115153  Minecraft 1.19 : La Wild Update ! - Résumé Min...  Aurelien_Sama   \n",
              "22071   Mais que prépare Trump ? - Reportage #cdanslai...   C dans l'air   \n",
              "24425   Une journée avec Valouzz (j’ai conduit le RSQ3...        Inoxtag   \n",
              "89333             NeS | Grünt #52 (Yvnnis, Gius & Deemax)          Grünt   \n",
              "\n",
              "                snippet  \n",
              "142802  News & Politics  \n",
              "115153           Gaming  \n",
              "22071     Entertainment  \n",
              "24425     Entertainment  \n",
              "89333             Music  "
            ],
            "text/html": [
              "\n",
              "  <div id=\"df-990d2633-1d0a-4ca5-83aa-099980287798\">\n",
              "    <div class=\"colab-df-container\">\n",
              "      <div>\n",
              "<style scoped>\n",
              "    .dataframe tbody tr th:only-of-type {\n",
              "        vertical-align: middle;\n",
              "    }\n",
              "\n",
              "    .dataframe tbody tr th {\n",
              "        vertical-align: top;\n",
              "    }\n",
              "\n",
              "    .dataframe thead th {\n",
              "        text-align: right;\n",
              "    }\n",
              "</style>\n",
              "<table border=\"1\" class=\"dataframe\">\n",
              "  <thead>\n",
              "    <tr style=\"text-align: right;\">\n",
              "      <th></th>\n",
              "      <th>title</th>\n",
              "      <th>channelTitle</th>\n",
              "      <th>snippet</th>\n",
              "    </tr>\n",
              "  </thead>\n",
              "  <tbody>\n",
              "    <tr>\n",
              "      <th>142802</th>\n",
              "      <td>MERCI Z EVENT !</td>\n",
              "      <td>AmnestyFrance</td>\n",
              "      <td>News &amp; Politics</td>\n",
              "    </tr>\n",
              "    <tr>\n",
              "      <th>115153</th>\n",
              "      <td>Minecraft 1.19 : La Wild Update ! - Résumé Min...</td>\n",
              "      <td>Aurelien_Sama</td>\n",
              "      <td>Gaming</td>\n",
              "    </tr>\n",
              "    <tr>\n",
              "      <th>22071</th>\n",
              "      <td>Mais que prépare Trump ? - Reportage #cdanslai...</td>\n",
              "      <td>C dans l'air</td>\n",
              "      <td>Entertainment</td>\n",
              "    </tr>\n",
              "    <tr>\n",
              "      <th>24425</th>\n",
              "      <td>Une journée avec Valouzz (j’ai conduit le RSQ3...</td>\n",
              "      <td>Inoxtag</td>\n",
              "      <td>Entertainment</td>\n",
              "    </tr>\n",
              "    <tr>\n",
              "      <th>89333</th>\n",
              "      <td>NeS | Grünt #52 (Yvnnis, Gius &amp; Deemax)</td>\n",
              "      <td>Grünt</td>\n",
              "      <td>Music</td>\n",
              "    </tr>\n",
              "  </tbody>\n",
              "</table>\n",
              "</div>\n",
              "      <button class=\"colab-df-convert\" onclick=\"convertToInteractive('df-990d2633-1d0a-4ca5-83aa-099980287798')\"\n",
              "              title=\"Convert this dataframe to an interactive table.\"\n",
              "              style=\"display:none;\">\n",
              "        \n",
              "  <svg xmlns=\"http://www.w3.org/2000/svg\" height=\"24px\"viewBox=\"0 0 24 24\"\n",
              "       width=\"24px\">\n",
              "    <path d=\"M0 0h24v24H0V0z\" fill=\"none\"/>\n",
              "    <path d=\"M18.56 5.44l.94 2.06.94-2.06 2.06-.94-2.06-.94-.94-2.06-.94 2.06-2.06.94zm-11 1L8.5 8.5l.94-2.06 2.06-.94-2.06-.94L8.5 2.5l-.94 2.06-2.06.94zm10 10l.94 2.06.94-2.06 2.06-.94-2.06-.94-.94-2.06-.94 2.06-2.06.94z\"/><path d=\"M17.41 7.96l-1.37-1.37c-.4-.4-.92-.59-1.43-.59-.52 0-1.04.2-1.43.59L10.3 9.45l-7.72 7.72c-.78.78-.78 2.05 0 2.83L4 21.41c.39.39.9.59 1.41.59.51 0 1.02-.2 1.41-.59l7.78-7.78 2.81-2.81c.8-.78.8-2.07 0-2.86zM5.41 20L4 18.59l7.72-7.72 1.47 1.35L5.41 20z\"/>\n",
              "  </svg>\n",
              "      </button>\n",
              "      \n",
              "  <style>\n",
              "    .colab-df-container {\n",
              "      display:flex;\n",
              "      flex-wrap:wrap;\n",
              "      gap: 12px;\n",
              "    }\n",
              "\n",
              "    .colab-df-convert {\n",
              "      background-color: #E8F0FE;\n",
              "      border: none;\n",
              "      border-radius: 50%;\n",
              "      cursor: pointer;\n",
              "      display: none;\n",
              "      fill: #1967D2;\n",
              "      height: 32px;\n",
              "      padding: 0 0 0 0;\n",
              "      width: 32px;\n",
              "    }\n",
              "\n",
              "    .colab-df-convert:hover {\n",
              "      background-color: #E2EBFA;\n",
              "      box-shadow: 0px 1px 2px rgba(60, 64, 67, 0.3), 0px 1px 3px 1px rgba(60, 64, 67, 0.15);\n",
              "      fill: #174EA6;\n",
              "    }\n",
              "\n",
              "    [theme=dark] .colab-df-convert {\n",
              "      background-color: #3B4455;\n",
              "      fill: #D2E3FC;\n",
              "    }\n",
              "\n",
              "    [theme=dark] .colab-df-convert:hover {\n",
              "      background-color: #434B5C;\n",
              "      box-shadow: 0px 1px 3px 1px rgba(0, 0, 0, 0.15);\n",
              "      filter: drop-shadow(0px 1px 2px rgba(0, 0, 0, 0.3));\n",
              "      fill: #FFFFFF;\n",
              "    }\n",
              "  </style>\n",
              "\n",
              "      <script>\n",
              "        const buttonEl =\n",
              "          document.querySelector('#df-990d2633-1d0a-4ca5-83aa-099980287798 button.colab-df-convert');\n",
              "        buttonEl.style.display =\n",
              "          google.colab.kernel.accessAllowed ? 'block' : 'none';\n",
              "\n",
              "        async function convertToInteractive(key) {\n",
              "          const element = document.querySelector('#df-990d2633-1d0a-4ca5-83aa-099980287798');\n",
              "          const dataTable =\n",
              "            await google.colab.kernel.invokeFunction('convertToInteractive',\n",
              "                                                     [key], {});\n",
              "          if (!dataTable) return;\n",
              "\n",
              "          const docLinkHtml = 'Like what you see? Visit the ' +\n",
              "            '<a target=\"_blank\" href=https://colab.research.google.com/notebooks/data_table.ipynb>data table notebook</a>'\n",
              "            + ' to learn more about interactive tables.';\n",
              "          element.innerHTML = '';\n",
              "          dataTable['output_type'] = 'display_data';\n",
              "          await google.colab.output.renderOutput(dataTable, element);\n",
              "          const docLink = document.createElement('div');\n",
              "          docLink.innerHTML = docLinkHtml;\n",
              "          element.appendChild(docLink);\n",
              "        }\n",
              "      </script>\n",
              "    </div>\n",
              "  </div>\n",
              "  "
            ]
          },
          "metadata": {},
          "execution_count": 77
        }
      ]
    },
    {
      "cell_type": "markdown",
      "source": [
        "# *Training part*"
      ],
      "metadata": {
        "id": "JceReCidMwc6"
      }
    },
    {
      "cell_type": "code",
      "source": [
        "title = list(map(\" \".join,df[['title', 'channelTitle']].values.tolist()))\n",
        "y = df[['snippet']].to_numpy()\n",
        "\n",
        "vectorizer = TfidfVectorizer()\n",
        "x = vectorizer.fit_transform(title)\n",
        "x_train, x_test, y_train, y_test = train_test_split(x, y, test_size=0.1, random_state=42)\n",
        "\n",
        "Model_lgr = LogisticRegression(max_iter=200, solver='sag')   \n",
        "Model_lgr.fit(x_train, y_train.ravel())\n",
        "score = Model_lgr.score(x_test, y_test.ravel())\n",
        "print(\"score: {0:.2f} %\".format(100 * score))"
      ],
      "metadata": {
        "colab": {
          "base_uri": "https://localhost:8080/"
        },
        "id": "csSPxRx_JHe3",
        "outputId": "990e8c9e-6977-4f3f-9900-780c8a7546ff"
      },
      "execution_count": 63,
      "outputs": [
        {
          "output_type": "stream",
          "name": "stdout",
          "text": [
            "score: 96.93 %\n"
          ]
        }
      ]
    },
    {
      "cell_type": "code",
      "source": [
        "pickle.dump(Model_lgr, open(\"logisticregression_youtube_video_classification.pkl\", 'wb'))"
      ],
      "metadata": {
        "id": "1OUJXVuhJJ92"
      },
      "execution_count": 64,
      "outputs": []
    },
    {
      "cell_type": "markdown",
      "source": [
        "# *Testing part*"
      ],
      "metadata": {
        "id": "7bd0wGT3MsTp"
      }
    },
    {
      "cell_type": "code",
      "source": [
        "pickled_model = pickle.load(open('logisticregression_youtube_video_classification.pkl', 'rb'))\n",
        "\n",
        "info = \"Flashback UFC : Le replay de la victoire par TKO de Gane contre le roi du KO Lewis | RMC\"\n",
        "x_predict = [info]\n",
        "x_predict = vectorizer.transform(x_predict)\n",
        "y_predict = pickled_model.predict(x_predict)\n",
        "print(y_predict)"
      ],
      "metadata": {
        "colab": {
          "base_uri": "https://localhost:8080/"
        },
        "id": "KC0FCZZ6JMwG",
        "outputId": "705783cc-e61b-4090-c07e-6fcd7084e060"
      },
      "execution_count": 70,
      "outputs": [
        {
          "output_type": "stream",
          "name": "stdout",
          "text": [
            "['Sports']\n"
          ]
        }
      ]
    }
  ]
}